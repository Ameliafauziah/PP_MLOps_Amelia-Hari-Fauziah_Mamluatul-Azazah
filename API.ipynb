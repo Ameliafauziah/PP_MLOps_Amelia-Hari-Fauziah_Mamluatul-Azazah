{
 "cells": [
  {
   "cell_type": "code",
   "execution_count": 1,
   "id": "53a1f0c6-6bb5-4de8-8d7e-b19e1f5440ad",
   "metadata": {},
   "outputs": [
    {
     "name": "stdout",
     "output_type": "stream",
     "text": [
      "Collecting fastapi\n",
      "  Downloading fastapi-0.116.1-py3-none-any.whl.metadata (28 kB)\n",
      "Requirement already satisfied: uvicorn in c:\\ecsssssssssssss\\lib\\site-packages (0.34.0)\n",
      "Requirement already satisfied: nest_asyncio in c:\\ecsssssssssssss\\lib\\site-packages (1.6.0)\n",
      "Requirement already satisfied: starlette<0.48.0,>=0.40.0 in c:\\ecsssssssssssss\\lib\\site-packages (from fastapi) (0.46.1)\n",
      "Collecting pydantic!=1.8,!=1.8.1,!=2.0.0,!=2.0.1,!=2.1.0,<3.0.0,>=1.7.4 (from fastapi)\n",
      "  Downloading pydantic-2.11.7-py3-none-any.whl.metadata (67 kB)\n",
      "Requirement already satisfied: typing-extensions>=4.8.0 in c:\\ecsssssssssssss\\lib\\site-packages (from fastapi) (4.14.1)\n",
      "Requirement already satisfied: click>=7.0 in c:\\ecsssssssssssss\\lib\\site-packages (from uvicorn) (8.1.7)\n",
      "Requirement already satisfied: h11>=0.8 in c:\\ecsssssssssssss\\lib\\site-packages (from uvicorn) (0.14.0)\n",
      "Requirement already satisfied: colorama in c:\\ecsssssssssssss\\lib\\site-packages (from click>=7.0->uvicorn) (0.4.6)\n",
      "Collecting annotated-types>=0.6.0 (from pydantic!=1.8,!=1.8.1,!=2.0.0,!=2.0.1,!=2.1.0,<3.0.0,>=1.7.4->fastapi)\n",
      "  Downloading annotated_types-0.7.0-py3-none-any.whl.metadata (15 kB)\n",
      "Collecting pydantic-core==2.33.2 (from pydantic!=1.8,!=1.8.1,!=2.0.0,!=2.0.1,!=2.1.0,<3.0.0,>=1.7.4->fastapi)\n",
      "  Downloading pydantic_core-2.33.2-cp312-cp312-win_amd64.whl.metadata (6.9 kB)\n",
      "Collecting typing-inspection>=0.4.0 (from pydantic!=1.8,!=1.8.1,!=2.0.0,!=2.0.1,!=2.1.0,<3.0.0,>=1.7.4->fastapi)\n",
      "  Downloading typing_inspection-0.4.1-py3-none-any.whl.metadata (2.6 kB)\n",
      "Requirement already satisfied: anyio<5,>=3.6.2 in c:\\ecsssssssssssss\\lib\\site-packages (from starlette<0.48.0,>=0.40.0->fastapi) (4.8.0)\n",
      "Requirement already satisfied: idna>=2.8 in c:\\ecsssssssssssss\\lib\\site-packages (from anyio<5,>=3.6.2->starlette<0.48.0,>=0.40.0->fastapi) (3.7)\n",
      "Requirement already satisfied: sniffio>=1.1 in c:\\ecsssssssssssss\\lib\\site-packages (from anyio<5,>=3.6.2->starlette<0.48.0,>=0.40.0->fastapi) (1.3.1)\n",
      "Downloading fastapi-0.116.1-py3-none-any.whl (95 kB)\n",
      "Downloading pydantic-2.11.7-py3-none-any.whl (444 kB)\n",
      "Downloading pydantic_core-2.33.2-cp312-cp312-win_amd64.whl (2.0 MB)\n",
      "   ---------------------------------------- 0.0/2.0 MB ? eta -:--:--\n",
      "   ---------------------------------------- 2.0/2.0 MB 12.0 MB/s eta 0:00:00\n",
      "Downloading annotated_types-0.7.0-py3-none-any.whl (13 kB)\n",
      "Downloading typing_inspection-0.4.1-py3-none-any.whl (14 kB)\n",
      "Installing collected packages: typing-inspection, pydantic-core, annotated-types, pydantic, fastapi\n",
      "Successfully installed annotated-types-0.7.0 fastapi-0.116.1 pydantic-2.11.7 pydantic-core-2.33.2 typing-inspection-0.4.1\n"
     ]
    }
   ],
   "source": [
    "!pip install fastapi uvicorn nest_asyncio"
   ]
  },
  {
   "cell_type": "code",
   "execution_count": null,
   "id": "7ab3f700-1b1d-443e-bbf3-3a73c71121b3",
   "metadata": {},
   "outputs": [
    {
     "name": "stderr",
     "output_type": "stream",
     "text": [
      "INFO:     Started server process [25692]\n",
      "INFO:     Waiting for application startup.\n",
      "INFO:     Application startup complete.\n",
      "INFO:     Uvicorn running on http://127.0.0.1:8000 (Press CTRL+C to quit)\n"
     ]
    },
    {
     "name": "stdout",
     "output_type": "stream",
     "text": [
      "INFO:     127.0.0.1:62173 - \"GET / HTTP/1.1\" 200 OK\n",
      "INFO:     127.0.0.1:62174 - \"GET / HTTP/1.1\" 200 OK\n",
      "INFO:     127.0.0.1:62296 - \"GET / HTTP/1.1\" 200 OK\n",
      "Received keyword: python\n",
      "INFO:     127.0.0.1:62446 - \"GET /recommendations/?keyword=python HTTP/1.1\" 200 OK\n"
     ]
    }
   ],
   "source": [
    "import uvicorn\n",
    "import nest_asyncio\n",
    "from fastapi import FastAPI\n",
    "import json\n",
    "\n",
    "nest_asyncio.apply()\n",
    "\n",
    "app = FastAPI()\n",
    "\n",
    "# Load data\n",
    "with open(\"recommendations_all_combinations.json\", \"r\", encoding=\"utf-8\") as f:\n",
    "    recommendations = json.load(f)\n",
    "\n",
    "@app.get(\"/\")\n",
    "def root():\n",
    "    return {\"message\": \"Welcome to the Course Recommendation API\"}\n",
    "\n",
    "@app.get(\"/recommendations/\")\n",
    "def get_recommendations(keyword: str):\n",
    "    key = keyword.lower().strip()\n",
    "    print(\"Received keyword:\", key)\n",
    "    matched = []\n",
    "\n",
    "    for k, v in recommendations[\"Beginner_Course\"].items():\n",
    "        if key in k.lower():\n",
    "            matched.append({k: v})\n",
    "\n",
    "    if matched:\n",
    "        return {\"status\": \"success\", \"keyword\": key, \"data\": matched}\n",
    "    else:\n",
    "        return {\"status\": \"error\", \"message\": f\"No results found for '{key}'\"}\n",
    "\n",
    "uvicorn.run(app, host=\"127.0.0.1\", port=8000)"
   ]
  }
 ],
 "metadata": {
  "kernelspec": {
   "display_name": "Python 3 (ipykernel)",
   "language": "python",
   "name": "python3"
  },
  "language_info": {
   "codemirror_mode": {
    "name": "ipython",
    "version": 3
   },
   "file_extension": ".py",
   "mimetype": "text/x-python",
   "name": "python",
   "nbconvert_exporter": "python",
   "pygments_lexer": "ipython3",
   "version": "3.13.0"
  }
 },
 "nbformat": 4,
 "nbformat_minor": 5
}
